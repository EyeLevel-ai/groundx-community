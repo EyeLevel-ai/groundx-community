{
 "cells": [
  {
   "cell_type": "markdown",
   "id": "59a6876c",
   "metadata": {},
   "source": [
    "## Setup\n",
    "Configuring environment variables and paths"
   ]
  },
  {
   "cell_type": "code",
   "execution_count": null,
   "id": "4c457bad",
   "metadata": {},
   "outputs": [],
   "source": [
    "# Setup: Load environment and enable local imports\n",
    "import sys, os\n",
    "from dotenv import load_dotenv\n",
    "\n",
    "# Add the repo root (one level above /examples or /notebooks)\n",
    "repo_root = os.path.abspath(os.path.join(os.getcwd(), \"..\"))\n",
    "if repo_root not in sys.path:\n",
    "    sys.path.insert(0, repo_root)\n",
    "\n",
    "# Load environment variables from .env at root of the repo\n",
    "dotenv_path = os.path.join(repo_root, \".env\")\n",
    "\n",
    "load_dotenv(dotenv_path)\n",
    "\n",
    "# Importing Project Module\n",
    "from chat_utils.citing import generate_cited_response"
   ]
  },
  {
   "cell_type": "markdown",
   "id": "271fa530",
   "metadata": {},
   "source": [
    "## Sample Query\n",
    "A sample query, simulating retrieved chunks. These are passed to `generate_cited_response`, which performs augmented generation and generates a response with in-text citations"
   ]
  },
  {
   "cell_type": "code",
   "execution_count": 17,
   "id": "30e8689e",
   "metadata": {},
   "outputs": [],
   "source": [
    "result = await generate_cited_response(\n",
    "    chunks=[\n",
    "        {\n",
    "            \"text\": (\n",
    "                \"George currently possesses a variety of fruits in his market stall, including three bunches of grapes and a crate of strawberries. \"\n",
    "                \"The grapes are organic, grown locally, and usually sold by the bunch. He typically sells the grapes in quantities of one or more, depending on customer demand. \"\n",
    "                \"The strawberries, on the other hand, are imported and priced differently based on weight rather than quantity.\"\n",
    "            ),\n",
    "            \"uuid\": \"11111111-aaaa-bbbb-cccc-000000000001\",\n",
    "            \"render_name\": \"market_inventory.txt\",\n",
    "            \"source_data\": {\n",
    "                \"url\": \"https://example.com/market_inventory\",\n",
    "                \"filename\": \"market_inventory.txt\",\n",
    "                \"file_type\": \"txt\",\n",
    "                \"document_uuid\": \"doc-001\"\n",
    "            }\n",
    "        },\n",
    "        {\n",
    "            \"text\": (\n",
    "                \"Natalie recently exchanged €5.00 into U.S. dollars and received exactly $5.45 USD. \"\n",
    "                \"She has expressed interest in buying grapes and strawberries from George. \"\n",
    "                \"However, she also mentioned she wants to keep $1.00 in reserve to buy bread from a nearby bakery later in the day.\"\n",
    "            ),\n",
    "            \"uuid\": \"22222222-bbbb-cccc-dddd-000000000002\",\n",
    "            \"render_name\": \"wallet_and_intentions.txt\",\n",
    "            \"source_data\": {\n",
    "                \"url\": \"https://example.com/wallet\",\n",
    "                \"filename\": \"wallet_and_intentions.txt\",\n",
    "                \"file_type\": \"txt\",\n",
    "                \"document_uuid\": \"doc-002\"\n",
    "            }\n",
    "        },\n",
    "        {\n",
    "            \"text\": (\n",
    "                \"George stated that he is willing to sell grapes for fifty cents per bunch, but added that if someone buys three bunches, he will offer them for a flat $1.25. \"\n",
    "                \"Strawberries are sold for $3.00 per crate, and George is unwilling to negotiate on that price unless multiple crates are bought. \"\n",
    "                \"All prices are quoted in USD and must be paid in cash.\"\n",
    "            ),\n",
    "            \"uuid\": \"33333333-cccc-dddd-eeee-000000000003\",\n",
    "            \"render_name\": \"pricing_policy.txt\",\n",
    "            \"source_data\": {\n",
    "                \"url\": \"https://example.com/pricing\",\n",
    "                \"filename\": \"pricing_policy.txt\",\n",
    "                \"file_type\": \"txt\",\n",
    "                \"document_uuid\": \"doc-003\"\n",
    "            }\n",
    "        },\n",
    "        {\n",
    "            \"text\": (\n",
    "                \"A bystander once noted that George used to raise llamas on a small patch of land adjacent to his current fruit farm. \"\n",
    "                \"While this fact has no bearing on his current business dealings, it is often brought up in conversation due to the llama’s quirky behavior.\"\n",
    "            ),\n",
    "            \"uuid\": \"44444444-dddd-eeee-ffff-000000000004\",\n",
    "            \"render_name\": \"llama_memoirs.txt\",\n",
    "            \"source_data\": {\n",
    "                \"url\": \"https://example.com/llamas\",\n",
    "                \"filename\": \"llama_memoirs.txt\",\n",
    "                \"file_type\": \"txt\",\n",
    "                \"document_uuid\": \"doc-004\"\n",
    "            }\n",
    "        }\n",
    "    ],\n",
    "    system_prompt=(\n",
    "        \"You are a helpful assistant. Use the provided excerpts to fully analyze and answer the user's question. \"\n",
    "        \"You must rely only on information from the excerpts, and cite every excerpt you used using the $REF: ID$ format. \"\n",
    "        \"If any information is irrelevant, do not cite it or mention it. Think carefully and show clear reasoning.\"\n",
    "        \"provide your answer as a \\\"rationale: \\\" which includes in-text citations, and \\\"final answer: \\\" which is a concise answer to the question. \"\n",
    "        \"the final answer should be separated by the rationale by a paragraph break. The rationale should not include newlines.\"\n",
    "    ),\n",
    "    query=\"Can Natalie afford to buy all of George's grapes and also buy strawberries?\"\n",
    ")"
   ]
  },
  {
   "cell_type": "code",
   "execution_count": 19,
   "id": "2becc124",
   "metadata": {},
   "outputs": [
    {
     "data": {
      "text/plain": [
       "'Rationale: Natalie has $5.45 USD after exchanging her euros, but she wants to keep $1.00 in reserve for bread, leaving her with $4.45 to spend on fruits \\n<InTextCitation chunkId=\"22222222-bbbb-cccc-dddd-000000000002\" renderName=\"wallet_and_intentions.txt\" url=\"https%3A//example.com/wallet\" filename=\"wallet_and_intentions.txt\" file_type=\"txt\" document_uuid=\"doc-002\"></InTextCitation>. George has three bunches of grapes and sells them for $0.50 each, or $1.25 for all three bunches \\n<InTextCitation chunkId=\"33333333-cccc-dddd-eeee-000000000003\" renderName=\"pricing_policy.txt\" url=\"https%3A//example.com/pricing\" filename=\"pricing_policy.txt\" file_type=\"txt\" document_uuid=\"doc-003\"></InTextCitation>. Therefore, Natalie can buy all three bunches of grapes for $1.25. George sells strawberries for $3.00 per crate \\n<InTextCitation chunkId=\"33333333-cccc-dddd-eeee-000000000003\" renderName=\"pricing_policy.txt\" url=\"https%3A//example.com/pricing\" filename=\"pricing_policy.txt\" file_type=\"txt\" document_uuid=\"doc-003\"></InTextCitation>. To buy both all the grapes and one crate of strawberries, Natalie would need $1.25 + $3.00 = $4.25. Since she has $4.45 available, she can afford to buy all of George\\'s grapes and one crate of strawberries.\\n\\nFinal answer: Yes, Natalie can afford to buy all of George\\'s grapes and one crate of strawberries with the money she has available.'"
      ]
     },
     "execution_count": 19,
     "metadata": {},
     "output_type": "execute_result"
    }
   ],
   "source": [
    "result"
   ]
  },
  {
   "cell_type": "markdown",
   "id": "790e9c2e",
   "metadata": {},
   "source": [
    "## Rendering the HTML\n",
    "The in-text-citations are injected as `<InTextCitation>'s` within the text document. This line of code does some simple string formatting to convert each in-text citation into an href."
   ]
  },
  {
   "cell_type": "code",
   "execution_count": 27,
   "id": "eb6743cb",
   "metadata": {},
   "outputs": [
    {
     "data": {
      "text/html": [
       "\n",
       "    <style>\n",
       "        .page {\n",
       "            padding: 2rem;\n",
       "            font-family: Arial, sans-serif;\n",
       "            line-height: 1.6;\n",
       "            background-color: #fefefe;\n",
       "            border: 1px solid #ddd;\n",
       "            border-radius: 8px;\n",
       "            max-width: 800px;\n",
       "            margin: 2rem auto;\n",
       "            box-shadow: 0 2px 5px rgba(0,0,0,0.1);\n",
       "            white-space: normal;\n",
       "        }\n",
       "\n",
       "        intextcitation {\n",
       "            display: inline-block;\n",
       "            background-color: #e0e0ff;\n",
       "            color: #333;\n",
       "            border: 1px solid #aaa;\n",
       "            border-radius: 5px;\n",
       "            padding: 2px 8px;\n",
       "            margin: 0 3px;\n",
       "            font-size: 0.85em;\n",
       "            font-family: monospace;\n",
       "            cursor: pointer;\n",
       "        }\n",
       "\n",
       "        intextcitation:hover {\n",
       "            background-color: #d0d0f0;\n",
       "        }\n",
       "\n",
       "        intextcitation::before {\n",
       "            content: attr(renderName);\n",
       "        }\n",
       "\n",
       "        .final-answer {\n",
       "            color: black;\n",
       "        }\n",
       "    </style>\n",
       "\n",
       "    <div class=\"page\">\n",
       "        Rationale: Natalie has $5.45 USD after exchanging her euros, but she wants to keep $1.00 in reserve for bread, leaving her with $4.45 to spend on fruits \n",
       "<InTextCitation chunkId=\"22222222-bbbb-cccc-dddd-000000000002\" renderName=\"wallet_and_intentions.txt\" url=\"https%3A//example.com/wallet\" filename=\"wallet_and_intentions.txt\" file_type=\"txt\" document_uuid=\"doc-002\"></InTextCitation>. George has three bunches of grapes and sells them for $0.50 each, or $1.25 for all three bunches \n",
       "<InTextCitation chunkId=\"33333333-cccc-dddd-eeee-000000000003\" renderName=\"pricing_policy.txt\" url=\"https%3A//example.com/pricing\" filename=\"pricing_policy.txt\" file_type=\"txt\" document_uuid=\"doc-003\"></InTextCitation>. Therefore, Natalie can buy all three bunches of grapes for $1.25. George sells strawberries for $3.00 per crate \n",
       "<InTextCitation chunkId=\"33333333-cccc-dddd-eeee-000000000003\" renderName=\"pricing_policy.txt\" url=\"https%3A//example.com/pricing\" filename=\"pricing_policy.txt\" file_type=\"txt\" document_uuid=\"doc-003\"></InTextCitation>. To buy both all the grapes and one crate of strawberries, Natalie would need $1.25 + $3.00 = $4.25. Since she has $4.45 available, she can afford to buy all of George's grapes and one crate of strawberries.\n",
       "\n",
       "Final answer:<span class=\"final-answer\"> Yes, Natalie can afford to buy all of George's grapes and one crate of strawberries with the money she has available.</span>\n",
       "    </div>\n",
       "\n",
       "    <script>\n",
       "        setTimeout(() => {\n",
       "            document.querySelectorAll(\"intextcitation\").forEach(el => {\n",
       "                el.addEventListener(\"click\", () => {\n",
       "                    const encodedUrl = el.getAttribute(\"url\");\n",
       "                    if (encodedUrl) {\n",
       "                        const decodedUrl = decodeURIComponent(encodedUrl);\n",
       "                        window.open(decodedUrl, \"_blank\");\n",
       "                    }\n",
       "                });\n",
       "            });\n",
       "        }, 0);\n",
       "    </script>\n",
       "    "
      ],
      "text/plain": [
       "<IPython.core.display.HTML object>"
      ]
     },
     "metadata": {},
     "output_type": "display_data"
    }
   ],
   "source": [
    "from IPython.display import display, HTML\n",
    "import re\n",
    "\n",
    "def render_citation_with_clickable_custom_tags(html: str) -> str:\n",
    "    # Find the position of \"Final answer\" (case-insensitive)\n",
    "    match = re.search(r\"(final answer:)\", html, re.IGNORECASE)\n",
    "    if match:\n",
    "        start = match.end()\n",
    "        html = html[:start] + '<span class=\"final-answer\">' + html[start:] + '</span>'\n",
    "\n",
    "    styled_html = f\"\"\"\n",
    "    <style>\n",
    "        .page {{\n",
    "            padding: 2rem;\n",
    "            font-family: Arial, sans-serif;\n",
    "            line-height: 1.6;\n",
    "            background-color: #fefefe;\n",
    "            border: 1px solid #ddd;\n",
    "            border-radius: 8px;\n",
    "            max-width: 800px;\n",
    "            margin: 2rem auto;\n",
    "            box-shadow: 0 2px 5px rgba(0,0,0,0.1);\n",
    "            white-space: normal;\n",
    "        }}\n",
    "\n",
    "        intextcitation {{\n",
    "            display: inline-block;\n",
    "            background-color: #e0e0ff;\n",
    "            color: #333;\n",
    "            border: 1px solid #aaa;\n",
    "            border-radius: 5px;\n",
    "            padding: 2px 8px;\n",
    "            margin: 0 3px;\n",
    "            font-size: 0.85em;\n",
    "            font-family: monospace;\n",
    "            cursor: pointer;\n",
    "        }}\n",
    "\n",
    "        intextcitation:hover {{\n",
    "            background-color: #d0d0f0;\n",
    "        }}\n",
    "\n",
    "        intextcitation::before {{\n",
    "            content: attr(renderName);\n",
    "        }}\n",
    "\n",
    "        .final-answer {{\n",
    "            color: black;\n",
    "        }}\n",
    "    </style>\n",
    "\n",
    "    <div class=\"page\">\n",
    "        {html}\n",
    "    </div>\n",
    "\n",
    "    <script>\n",
    "        setTimeout(() => {{\n",
    "            document.querySelectorAll(\"intextcitation\").forEach(el => {{\n",
    "                el.addEventListener(\"click\", () => {{\n",
    "                    const encodedUrl = el.getAttribute(\"url\");\n",
    "                    if (encodedUrl) {{\n",
    "                        const decodedUrl = decodeURIComponent(encodedUrl);\n",
    "                        window.open(decodedUrl, \"_blank\");\n",
    "                    }}\n",
    "                }});\n",
    "            }});\n",
    "        }}, 0);\n",
    "    </script>\n",
    "    \"\"\"\n",
    "    return styled_html\n",
    "\n",
    "# Display the result with clickable citations and final answer highlight\n",
    "display(HTML(render_citation_with_clickable_custom_tags(result)))\n"
   ]
  },
  {
   "cell_type": "markdown",
   "id": "6f42a964",
   "metadata": {},
   "source": [
    "## Integrating with GroundX"
   ]
  },
  {
   "cell_type": "markdown",
   "id": "78fa49e2",
   "metadata": {},
   "source": [
    "**Downloading Files**"
   ]
  },
  {
   "cell_type": "code",
   "execution_count": null,
   "id": "3f85e52d",
   "metadata": {},
   "outputs": [
    {
     "name": "stdout",
     "output_type": "stream",
     "text": [
      "zsh:1: command not found: pip\n"
     ]
    }
   ],
   "source": []
  },
  {
   "cell_type": "code",
   "execution_count": 28,
   "id": "512af303",
   "metadata": {},
   "outputs": [
    {
     "ename": "ModuleNotFoundError",
     "evalue": "No module named 'arxiv'",
     "output_type": "error",
     "traceback": [
      "\u001b[31m---------------------------------------------------------------------------\u001b[39m",
      "\u001b[31mModuleNotFoundError\u001b[39m                       Traceback (most recent call last)",
      "\u001b[36mCell\u001b[39m\u001b[36m \u001b[39m\u001b[32mIn[28]\u001b[39m\u001b[32m, line 1\u001b[39m\n\u001b[32m----> \u001b[39m\u001b[32m1\u001b[39m \u001b[38;5;28;01mimport\u001b[39;00m\u001b[38;5;250m \u001b[39m\u001b[34;01marxiv\u001b[39;00m\n\u001b[32m      2\u001b[39m \u001b[38;5;28;01mimport\u001b[39;00m\u001b[38;5;250m \u001b[39m\u001b[34;01mos\u001b[39;00m\n\u001b[32m      4\u001b[39m \u001b[38;5;66;03m# Define target download directory\u001b[39;00m\n",
      "\u001b[31mModuleNotFoundError\u001b[39m: No module named 'arxiv'"
     ]
    }
   ],
   "source": [
    "import arxiv\n",
    "import os\n",
    "\n",
    "# Define target download directory\n",
    "output_dir = os.path.join(\"temp\", \"arxiv_papers\")\n",
    "os.makedirs(output_dir, exist_ok=True)\n",
    "\n",
    "# List of arXiv IDs and desired filenames\n",
    "papers = {\n",
    "    \"1706.03762\": \"attention_is_all_you_need.pdf\",   # Attention is All You Need\n",
    "    \"1901.02860\": \"transformer_xl.pdf\",              # Transformer-XL\n",
    "    \"2104.09864\": \"rope_roformer.pdf\",               # RoPE (RoFormer)\n",
    "}\n",
    "\n",
    "# Download each paper\n",
    "for arxiv_id, filename in papers.items():\n",
    "    print(f\"Downloading {filename} (arXiv:{arxiv_id})...\")\n",
    "    paper = next(arxiv.Search(id_list=[arxiv_id]).results())\n",
    "    paper.download_pdf(dirpath=output_dir, filename=filename)\n",
    "\n",
    "print(\"✅ All downloads complete.\")"
   ]
  },
  {
   "cell_type": "code",
   "execution_count": null,
   "id": "bb867ea9",
   "metadata": {},
   "outputs": [],
   "source": []
  }
 ],
 "metadata": {
  "kernelspec": {
   "display_name": "groundx-community",
   "language": "python",
   "name": "python3"
  },
  "language_info": {
   "codemirror_mode": {
    "name": "ipython",
    "version": 3
   },
   "file_extension": ".py",
   "mimetype": "text/x-python",
   "name": "python",
   "nbconvert_exporter": "python",
   "pygments_lexer": "ipython3",
   "version": "3.11.6"
  }
 },
 "nbformat": 4,
 "nbformat_minor": 5
}
